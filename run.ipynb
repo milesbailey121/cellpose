{
 "cells": [
  {
   "cell_type": "code",
   "execution_count": 1,
   "metadata": {},
   "outputs": [],
   "source": [
    "import numpy as np\n",
    "from cellpose import models, io\n",
    "from cellpose.io import imread\n",
    "import os\n",
    "import tifffile\n",
    "from matplotlib import pyplot as plt"
   ]
  },
  {
   "cell_type": "code",
   "execution_count": 20,
   "metadata": {},
   "outputs": [
    {
     "name": "stdout",
     "output_type": "stream",
     "text": [
      "creating new log file\n",
      "2024-05-28 18:31:47,314 [INFO] WRITING LOG OUTPUT TO C:\\Users\\miles\\.cellpose\\run.log\n",
      "2024-05-28 18:31:47,314 [INFO] \n",
      "cellpose version: \t3.0.7 \n",
      "platform:       \twin32 \n",
      "python version: \t3.8.19 \n",
      "torch version:  \t2.3.0\n",
      "2024-05-28 18:31:47,327 [INFO] >>>> loading model models\\my_new_model\n",
      "2024-05-28 18:31:47,328 [INFO] ** TORCH CUDA version installed and working. **\n",
      "2024-05-28 18:31:47,328 [INFO] >>>> using GPU\n",
      "2024-05-28 18:31:47,732 [INFO] >>>> model diam_mean =  30.000 (ROIs rescaled to this size during training)\n",
      "2024-05-28 18:31:47,732 [INFO] >>>> model diam_labels =  38.920 (mean diameter of training ROIs)\n"
     ]
    }
   ],
   "source": [
    "io.logger_setup()\n",
    "\n",
    "# model_type='cyto' or 'nuclei' or 'cyto2' or 'cyto3'\n",
    "model = models.CellposeModel(pretrained_model=\"E:\\output_slices\\models\\CP_20240525_175436_final\",gpu=True)\n",
    "\n",
    "# list of files\n",
    "# PUT PATH TO YOUR FILES HERE!\n",
    "dir = r\"E:\\output_slices\\Mx_SA TMA 5_J01.ome\"\n",
    "files = os.listdir(dir)\n",
    "fpath = [os.path.join(dir,f) for f in files]\n",
    "\n",
    "# define CHANNELS to run segementation on\n",
    "# grayscale=0, R=1, G=2, B=3\n",
    "# channels = [cytoplasm, nucleus]\n",
    "# if NUCLEUS channel does not exist, set the second channel to 0\n",
    "channels = [[2,1]]\n",
    "# IF ALL YOUR IMAGES ARE THE SAME TYPE, you can give a list with 2 elements\n",
    "# channels = [0,0] # IF YOU HAVE GRAYSCALE\n",
    "# channels = [2,3] # IF YOU HAVE G=cytoplasm and B=nucleus\n",
    "# channels = [2,1] # IF YOU HAVE G=cytoplasm and R=nucleus\n",
    "\n",
    "# if diameter is set to None, the size of the cells is estimated on a per image basis\n",
    "# you can set the average cell `diameter` in pixels yourself (recommended)\n",
    "# diameter can be a list or a single number for all images\n",
    "\n"
   ]
  },
  {
   "cell_type": "code",
   "execution_count": 21,
   "metadata": {},
   "outputs": [
    {
     "name": "stdout",
     "output_type": "stream",
     "text": [
      "2024-05-28 18:31:50,886 [INFO] 0%|          | 0/43 [00:00<?, ?it/s]\n",
      "2024-05-28 18:31:51,224 [INFO] No cell pixels found.\n",
      "2024-05-28 18:31:53,106 [INFO] No cell pixels found.\n",
      "2024-05-28 18:32:01,042 [INFO] No cell pixels found.\n",
      "2024-05-28 18:32:10,502 [INFO] 100%|##########| 43/43 [00:19<00:00,  2.19it/s]\n"
     ]
    }
   ],
   "source": [
    "img = []\n",
    "for filename in fpath:\n",
    "    img.append(imread(filename))\n",
    "    #img = np.transpose(img,(0,2,3,1))\n",
    "    \n",
    "    \n",
    "masks, flows, styles = model.eval(img, diameter=None, channels=[2,1])\n",
    "\n",
    "        \n",
    "        \n",
    "\n",
    "# # save results so you can load in gui\n",
    "# io.masks_flows_to_seg(img, masks, flows, diams, filename, [2,1])\n",
    "\n",
    "# # save results as png\n",
    "# io.save_to_png(img, masks, flows, filename)"
   ]
  },
  {
   "cell_type": "code",
   "execution_count": 22,
   "metadata": {},
   "outputs": [],
   "source": [
    "for i,img in enumerate(masks):\n",
    "    tifffile.imwrite((\"slice_trained/\"+files[i]),img)"
   ]
  },
  {
   "cell_type": "code",
   "execution_count": null,
   "metadata": {},
   "outputs": [],
   "source": [
    "for i,mask in enumerate(masks):\n",
    "    plt.imshow(mask)\n",
    "    plt.show()"
   ]
  }
 ],
 "metadata": {
  "kernelspec": {
   "display_name": "cellpose",
   "language": "python",
   "name": "python3"
  },
  "language_info": {
   "codemirror_mode": {
    "name": "ipython",
    "version": 3
   },
   "file_extension": ".py",
   "mimetype": "text/x-python",
   "name": "python",
   "nbconvert_exporter": "python",
   "pygments_lexer": "ipython3",
   "version": "3.8.19"
  }
 },
 "nbformat": 4,
 "nbformat_minor": 2
}
