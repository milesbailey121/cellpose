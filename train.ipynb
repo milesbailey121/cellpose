{
 "cells": [
  {
   "cell_type": "code",
   "execution_count": 1,
   "metadata": {},
   "outputs": [],
   "source": [
    "# import numpy as np\n",
    "# import cellpose\n",
    "# import tifffile\n",
    "import pickle"
   ]
  },
  {
   "cell_type": "code",
   "execution_count": 1,
   "metadata": {},
   "outputs": [],
   "source": [
    "train_dir = r\"E:\\output_slices\\train\"\n",
    "test_dir = r\"E:\\output_slices\\Mx_SA TMA 5_J10.ome\""
   ]
  },
  {
   "cell_type": "code",
   "execution_count": 4,
   "metadata": {},
   "outputs": [
    {
     "name": "stdout",
     "output_type": "stream",
     "text": [
      "creating new log file\n",
      "2024-05-25 18:01:45,840 [INFO] WRITING LOG OUTPUT TO C:\\Users\\miles\\.cellpose\\run.log\n",
      "2024-05-25 18:01:45,840 [INFO] \n",
      "cellpose version: \t3.0.7 \n",
      "platform:       \twin32 \n",
      "python version: \t3.11.9 \n",
      "torch version:  \t2.2.1+cpu\n",
      "2024-05-25 18:01:45,910 [INFO] not all flows are present, running flow generation for all images\n",
      "2024-05-25 18:01:46,477 [INFO] 345 / 345 images in E:\\output_slices\\train folder have labels\n",
      "2024-05-25 18:01:46,488 [INFO] not all flows are present, running flow generation for all images\n",
      "2024-05-25 18:01:46,543 [INFO] 36 / 36 images in E:\\output_slices\\Mx_SA TMA 5_J10.ome folder have labels\n"
     ]
    }
   ],
   "source": [
    "from cellpose import io, models, train\n",
    "io.logger_setup()\n",
    "\n",
    "output = io.load_train_test_data(train_dir, test_dir,mask_filter=\"_seg\")\n",
    "images, labels, image_names, test_images, test_labels, image_names_test = output\n",
    "\n",
    "with open('file.pkl', 'wb') as file: \n",
    "    # A new file will be created \n",
    "    pickle.dump(output, file) \n"
   ]
  },
  {
   "cell_type": "code",
   "execution_count": 2,
   "metadata": {},
   "outputs": [],
   "source": [
    "with open('file.pkl', 'rb') as file: \n",
    "    # Call load method to deserialze \n",
    "    myvar = pickle.load(file) "
   ]
  },
  {
   "cell_type": "code",
   "execution_count": 3,
   "metadata": {},
   "outputs": [],
   "source": [
    "images, labels, image_names, test_images, test_labels, image_names_test = myvar"
   ]
  },
  {
   "cell_type": "code",
   "execution_count": 4,
   "metadata": {},
   "outputs": [
    {
     "data": {
      "text/plain": [
       "(345, 2, 512, 512)"
      ]
     },
     "execution_count": 4,
     "metadata": {},
     "output_type": "execute_result"
    }
   ],
   "source": [
    "import numpy as np \n",
    "np.shape(images)"
   ]
  },
  {
   "cell_type": "code",
   "execution_count": 6,
   "metadata": {},
   "outputs": [
    {
     "name": "stdout",
     "output_type": "stream",
     "text": [
      "creating new log file\n",
      "2024-05-25 18:02:27,581 [INFO] WRITING LOG OUTPUT TO C:\\Users\\miles\\.cellpose\\run.log\n",
      "2024-05-25 18:02:27,582 [INFO] \n",
      "cellpose version: \t3.0.7 \n",
      "platform:       \twin32 \n",
      "python version: \t3.8.19 \n",
      "torch version:  \t2.3.0\n",
      "2024-05-25 18:02:27,583 [INFO] >> cyto3 << model set to be used\n",
      "2024-05-25 18:02:27,662 [INFO] ** TORCH CUDA version installed and working. **\n",
      "2024-05-25 18:02:27,663 [INFO] >>>> using GPU\n",
      "2024-05-25 18:02:27,820 [INFO] >>>> model diam_mean =  30.000 (ROIs rescaled to this size during training)\n",
      "2024-05-25 18:02:27,820 [INFO] computing flows for labels\n"
     ]
    },
    {
     "name": "stderr",
     "output_type": "stream",
     "text": [
      "  0%|          | 0/345 [00:00<?, ?it/s]"
     ]
    },
    {
     "name": "stdout",
     "output_type": "stream",
     "text": [
      "2024-05-25 18:02:27,890 [WARNING] empty masks!\n",
      "2024-05-25 18:02:27,892 [WARNING] empty masks!\n",
      "2024-05-25 18:02:27,893 [WARNING] empty masks!\n",
      "2024-05-25 18:02:27,895 [WARNING] empty masks!\n",
      "2024-05-25 18:02:27,896 [WARNING] empty masks!\n",
      "2024-05-25 18:02:27,897 [WARNING] empty masks!\n",
      "2024-05-25 18:02:27,898 [WARNING] empty masks!\n",
      "2024-05-25 18:02:27,899 [WARNING] empty masks!\n",
      "2024-05-25 18:02:27,900 [WARNING] empty masks!\n",
      "2024-05-25 18:02:27,902 [WARNING] empty masks!\n",
      "2024-05-25 18:02:27,904 [WARNING] empty masks!\n",
      "2024-05-25 18:02:27,905 [WARNING] empty masks!\n",
      "2024-05-25 18:02:27,907 [WARNING] empty masks!\n",
      "2024-05-25 18:02:27,908 [WARNING] empty masks!\n",
      "2024-05-25 18:02:27,910 [WARNING] empty masks!\n",
      "2024-05-25 18:02:27,911 [WARNING] empty masks!\n",
      "2024-05-25 18:02:27,912 [WARNING] empty masks!\n",
      "2024-05-25 18:02:27,914 [WARNING] empty masks!\n",
      "2024-05-25 18:02:27,916 [WARNING] empty masks!\n",
      "2024-05-25 18:02:27,917 [WARNING] empty masks!\n"
     ]
    },
    {
     "name": "stderr",
     "output_type": "stream",
     "text": [
      "  6%|▌         | 21/345 [00:01<00:23, 13.59it/s]"
     ]
    },
    {
     "name": "stdout",
     "output_type": "stream",
     "text": [
      "2024-05-25 18:02:29,437 [WARNING] empty masks!\n",
      "2024-05-25 18:02:29,438 [WARNING] empty masks!\n",
      "2024-05-25 18:02:29,439 [WARNING] empty masks!\n",
      "2024-05-25 18:02:29,440 [WARNING] empty masks!\n",
      "2024-05-25 18:02:29,440 [WARNING] empty masks!\n",
      "2024-05-25 18:02:29,441 [WARNING] empty masks!\n",
      "2024-05-25 18:02:29,523 [WARNING] empty masks!\n",
      "2024-05-25 18:02:29,524 [WARNING] empty masks!\n",
      "2024-05-25 18:02:29,525 [WARNING] empty masks!\n",
      "2024-05-25 18:02:29,526 [WARNING] empty masks!\n",
      "2024-05-25 18:02:29,527 [WARNING] empty masks!\n"
     ]
    },
    {
     "name": "stderr",
     "output_type": "stream",
     "text": [
      " 10%|▉         | 34/345 [00:01<00:13, 22.54it/s]"
     ]
    },
    {
     "name": "stdout",
     "output_type": "stream",
     "text": [
      "2024-05-25 18:02:29,730 [WARNING] empty masks!\n",
      "2024-05-25 18:02:29,732 [WARNING] empty masks!\n",
      "2024-05-25 18:02:29,732 [WARNING] empty masks!\n",
      "2024-05-25 18:02:29,733 [WARNING] empty masks!\n",
      "2024-05-25 18:02:29,735 [WARNING] empty masks!\n"
     ]
    },
    {
     "name": "stderr",
     "output_type": "stream",
     "text": [
      " 13%|█▎        | 45/345 [00:02<00:13, 21.90it/s]"
     ]
    },
    {
     "name": "stdout",
     "output_type": "stream",
     "text": [
      "2024-05-25 18:02:30,126 [WARNING] empty masks!\n",
      "2024-05-25 18:02:30,127 [WARNING] empty masks!\n"
     ]
    },
    {
     "name": "stderr",
     "output_type": "stream",
     "text": [
      " 14%|█▍        | 49/345 [00:02<00:12, 23.82it/s]"
     ]
    },
    {
     "name": "stdout",
     "output_type": "stream",
     "text": [
      "2024-05-25 18:02:30,362 [WARNING] empty masks!\n"
     ]
    },
    {
     "name": "stderr",
     "output_type": "stream",
     "text": [
      " 15%|█▌        | 53/345 [00:02<00:12, 23.26it/s]"
     ]
    },
    {
     "name": "stdout",
     "output_type": "stream",
     "text": [
      "2024-05-25 18:02:30,363 [WARNING] empty masks!\n",
      "2024-05-25 18:02:30,364 [WARNING] empty masks!\n",
      "2024-05-25 18:02:30,365 [WARNING] empty masks!\n",
      "2024-05-25 18:02:30,366 [WARNING] empty masks!\n",
      "2024-05-25 18:02:30,367 [WARNING] empty masks!\n",
      "2024-05-25 18:02:30,368 [WARNING] empty masks!\n",
      "2024-05-25 18:02:30,369 [WARNING] empty masks!\n",
      "2024-05-25 18:02:30,370 [WARNING] empty masks!\n",
      "2024-05-25 18:02:30,371 [WARNING] empty masks!\n",
      "2024-05-25 18:02:30,372 [WARNING] empty masks!\n",
      "2024-05-25 18:02:30,373 [WARNING] empty masks!\n"
     ]
    },
    {
     "name": "stderr",
     "output_type": "stream",
     "text": [
      " 19%|█▉        | 66/345 [00:02<00:07, 38.40it/s]"
     ]
    },
    {
     "name": "stdout",
     "output_type": "stream",
     "text": [
      "2024-05-25 18:02:30,608 [WARNING] empty masks!\n",
      "2024-05-25 18:02:30,610 [WARNING] empty masks!\n"
     ]
    },
    {
     "name": "stderr",
     "output_type": "stream",
     "text": [
      " 21%|██        | 72/345 [00:02<00:08, 33.61it/s]"
     ]
    },
    {
     "name": "stdout",
     "output_type": "stream",
     "text": [
      "2024-05-25 18:02:30,833 [WARNING] empty masks!\n",
      "2024-05-25 18:02:30,834 [WARNING] empty masks!\n"
     ]
    },
    {
     "name": "stderr",
     "output_type": "stream",
     "text": [
      " 22%|██▏       | 77/345 [00:03<00:08, 32.13it/s]"
     ]
    },
    {
     "name": "stdout",
     "output_type": "stream",
     "text": [
      "2024-05-25 18:02:30,974 [WARNING] empty masks!\n",
      "2024-05-25 18:02:30,976 [WARNING] empty masks!\n",
      "2024-05-25 18:02:30,977 [WARNING] empty masks!\n",
      "2024-05-25 18:02:30,978 [WARNING] empty masks!\n"
     ]
    },
    {
     "name": "stderr",
     "output_type": "stream",
     "text": [
      " 24%|██▍       | 83/345 [00:03<00:07, 35.58it/s]"
     ]
    },
    {
     "name": "stdout",
     "output_type": "stream",
     "text": [
      "2024-05-25 18:02:31,034 [WARNING] empty masks!\n",
      "2024-05-25 18:02:31,035 [WARNING] empty masks!\n"
     ]
    },
    {
     "name": "stderr",
     "output_type": "stream",
     "text": [
      " 26%|██▌       | 88/345 [00:03<00:07, 32.60it/s]"
     ]
    },
    {
     "name": "stdout",
     "output_type": "stream",
     "text": [
      "2024-05-25 18:02:31,226 [WARNING] empty masks!\n"
     ]
    },
    {
     "name": "stderr",
     "output_type": "stream",
     "text": [
      " 28%|██▊       | 96/345 [00:03<00:10, 23.47it/s]"
     ]
    },
    {
     "name": "stdout",
     "output_type": "stream",
     "text": [
      "2024-05-25 18:02:31,711 [WARNING] empty masks!\n",
      "2024-05-25 18:02:31,712 [WARNING] empty masks!\n",
      "2024-05-25 18:02:31,771 [WARNING] empty masks!\n",
      "2024-05-25 18:02:31,773 [WARNING] empty masks!\n",
      "2024-05-25 18:02:31,774 [WARNING] empty masks!\n",
      "2024-05-25 18:02:31,775 [WARNING] empty masks!\n",
      "2024-05-25 18:02:31,776 [WARNING] empty masks!\n",
      "2024-05-25 18:02:31,778 [WARNING] empty masks!\n",
      "2024-05-25 18:02:31,779 [WARNING] empty masks!\n",
      "2024-05-25 18:02:31,780 [WARNING] empty masks!\n",
      "2024-05-25 18:02:31,780 [WARNING] empty masks!\n",
      "2024-05-25 18:02:31,781 [WARNING] empty masks!\n",
      "2024-05-25 18:02:31,783 [WARNING] empty masks!\n",
      "2024-05-25 18:02:31,785 [WARNING] empty masks!\n",
      "2024-05-25 18:02:31,786 [WARNING] empty masks!\n",
      "2024-05-25 18:02:31,787 [WARNING] empty masks!\n",
      "2024-05-25 18:02:31,788 [WARNING] empty masks!\n"
     ]
    },
    {
     "name": "stderr",
     "output_type": "stream",
     "text": [
      " 33%|███▎      | 115/345 [00:03<00:04, 48.20it/s]"
     ]
    },
    {
     "name": "stdout",
     "output_type": "stream",
     "text": [
      "2024-05-25 18:02:32,966 [WARNING] empty masks!\n"
     ]
    },
    {
     "name": "stderr",
     "output_type": "stream",
     "text": [
      " 43%|████▎     | 147/345 [00:08<00:16, 11.72it/s]"
     ]
    },
    {
     "name": "stdout",
     "output_type": "stream",
     "text": [
      "2024-05-25 18:02:36,539 [WARNING] empty masks!\n"
     ]
    },
    {
     "name": "stderr",
     "output_type": "stream",
     "text": [
      " 45%|████▍     | 155/345 [00:09<00:15, 12.05it/s]"
     ]
    },
    {
     "name": "stdout",
     "output_type": "stream",
     "text": [
      "2024-05-25 18:02:37,053 [WARNING] empty masks!\n",
      "2024-05-25 18:02:37,054 [WARNING] empty masks!\n",
      "2024-05-25 18:02:37,055 [WARNING] empty masks!\n",
      "2024-05-25 18:02:37,056 [WARNING] empty masks!\n",
      "2024-05-25 18:02:37,057 [WARNING] empty masks!\n",
      "2024-05-25 18:02:37,058 [WARNING] empty masks!\n",
      "2024-05-25 18:02:37,060 [WARNING] empty masks!\n",
      "2024-05-25 18:02:37,060 [WARNING] empty masks!\n",
      "2024-05-25 18:02:37,061 [WARNING] empty masks!\n",
      "2024-05-25 18:02:37,063 [WARNING] empty masks!\n",
      "2024-05-25 18:02:37,064 [WARNING] empty masks!\n",
      "2024-05-25 18:02:37,115 [WARNING] empty masks!\n",
      "2024-05-25 18:02:37,117 [WARNING] empty masks!\n",
      "2024-05-25 18:02:37,118 [WARNING] empty masks!\n",
      "2024-05-25 18:02:37,119 [WARNING] empty masks!\n",
      "2024-05-25 18:02:37,120 [WARNING] empty masks!\n",
      "2024-05-25 18:02:37,120 [WARNING] empty masks!\n",
      "2024-05-25 18:02:37,122 [WARNING] empty masks!\n",
      "2024-05-25 18:02:37,125 [WARNING] empty masks!\n",
      "2024-05-25 18:02:37,126 [WARNING] empty masks!\n",
      "2024-05-25 18:02:37,127 [WARNING] empty masks!\n",
      "2024-05-25 18:02:37,128 [WARNING] empty masks!\n"
     ]
    },
    {
     "name": "stderr",
     "output_type": "stream",
     "text": [
      " 52%|█████▏    | 179/345 [00:09<00:02, 56.79it/s]"
     ]
    },
    {
     "name": "stdout",
     "output_type": "stream",
     "text": [
      "2024-05-25 18:02:37,161 [WARNING] empty masks!\n",
      "2024-05-25 18:02:37,161 [WARNING] empty masks!\n",
      "2024-05-25 18:02:37,163 [WARNING] empty masks!\n",
      "2024-05-25 18:02:37,165 [WARNING] empty masks!\n",
      "2024-05-25 18:02:37,166 [WARNING] empty masks!\n",
      "2024-05-25 18:02:37,257 [WARNING] empty masks!\n",
      "2024-05-25 18:02:37,258 [WARNING] empty masks!\n",
      "2024-05-25 18:02:37,259 [WARNING] empty masks!\n"
     ]
    },
    {
     "name": "stderr",
     "output_type": "stream",
     "text": [
      " 54%|█████▍    | 188/345 [00:09<00:02, 64.01it/s]"
     ]
    },
    {
     "name": "stdout",
     "output_type": "stream",
     "text": [
      "2024-05-25 18:02:37,261 [WARNING] empty masks!\n",
      "2024-05-25 18:02:37,263 [WARNING] empty masks!\n",
      "2024-05-25 18:02:37,264 [WARNING] empty masks!\n",
      "2024-05-25 18:02:37,265 [WARNING] empty masks!\n",
      "2024-05-25 18:02:37,266 [WARNING] empty masks!\n",
      "2024-05-25 18:02:37,267 [WARNING] empty masks!\n",
      "2024-05-25 18:02:37,268 [WARNING] empty masks!\n",
      "2024-05-25 18:02:37,269 [WARNING] empty masks!\n",
      "2024-05-25 18:02:37,270 [WARNING] empty masks!\n",
      "2024-05-25 18:02:37,271 [WARNING] empty masks!\n",
      "2024-05-25 18:02:37,273 [WARNING] empty masks!\n",
      "2024-05-25 18:02:37,274 [WARNING] empty masks!\n",
      "2024-05-25 18:02:37,275 [WARNING] empty masks!\n",
      "2024-05-25 18:02:37,319 [WARNING] empty masks!\n",
      "2024-05-25 18:02:37,320 [WARNING] empty masks!\n",
      "2024-05-25 18:02:37,321 [WARNING] empty masks!\n",
      "2024-05-25 18:02:37,322 [WARNING] empty masks!\n",
      "2024-05-25 18:02:37,323 [WARNING] empty masks!\n",
      "2024-05-25 18:02:37,325 [WARNING] empty masks!\n"
     ]
    },
    {
     "name": "stderr",
     "output_type": "stream",
     "text": [
      " 61%|██████    | 209/345 [00:09<00:01, 96.90it/s]"
     ]
    },
    {
     "name": "stdout",
     "output_type": "stream",
     "text": [
      "2024-05-25 18:02:37,424 [WARNING] empty masks!\n",
      "2024-05-25 18:02:37,425 [WARNING] empty masks!\n",
      "2024-05-25 18:02:37,426 [WARNING] empty masks!\n",
      "2024-05-25 18:02:37,427 [WARNING] empty masks!\n",
      "2024-05-25 18:02:37,428 [WARNING] empty masks!\n",
      "2024-05-25 18:02:37,660 [WARNING] empty masks!\n",
      "2024-05-25 18:02:37,661 [WARNING] empty masks!\n"
     ]
    },
    {
     "name": "stderr",
     "output_type": "stream",
     "text": [
      " 64%|██████▍   | 221/345 [00:09<00:01, 69.20it/s]"
     ]
    },
    {
     "name": "stdout",
     "output_type": "stream",
     "text": [
      "2024-05-25 18:02:37,662 [WARNING] empty masks!\n",
      "2024-05-25 18:02:37,664 [WARNING] empty masks!\n",
      "2024-05-25 18:02:37,812 [WARNING] empty masks!\n",
      "2024-05-25 18:02:37,813 [WARNING] empty masks!\n",
      "2024-05-25 18:02:37,814 [WARNING] empty masks!\n",
      "2024-05-25 18:02:37,815 [WARNING] empty masks!\n",
      "2024-05-25 18:02:37,816 [WARNING] empty masks!\n"
     ]
    },
    {
     "name": "stderr",
     "output_type": "stream",
     "text": [
      " 67%|██████▋   | 231/345 [00:09<00:01, 67.88it/s]"
     ]
    },
    {
     "name": "stdout",
     "output_type": "stream",
     "text": [
      "2024-05-25 18:02:37,918 [WARNING] empty masks!\n",
      "2024-05-25 18:02:37,920 [WARNING] empty masks!\n",
      "2024-05-25 18:02:37,921 [WARNING] empty masks!\n",
      "2024-05-25 18:02:37,923 [WARNING] empty masks!\n",
      "2024-05-25 18:02:37,924 [WARNING] empty masks!\n",
      "2024-05-25 18:02:37,925 [WARNING] empty masks!\n",
      "2024-05-25 18:02:37,926 [WARNING] empty masks!\n"
     ]
    },
    {
     "name": "stderr",
     "output_type": "stream",
     "text": [
      " 70%|██████▉   | 240/345 [00:10<00:01, 70.95it/s]"
     ]
    },
    {
     "name": "stdout",
     "output_type": "stream",
     "text": [
      "2024-05-25 18:02:37,928 [WARNING] empty masks!\n",
      "2024-05-25 18:02:37,929 [WARNING] empty masks!\n",
      "2024-05-25 18:02:37,930 [WARNING] empty masks!\n",
      "2024-05-25 18:02:37,931 [WARNING] empty masks!\n",
      "2024-05-25 18:02:37,932 [WARNING] empty masks!\n",
      "2024-05-25 18:02:37,933 [WARNING] empty masks!\n",
      "2024-05-25 18:02:37,934 [WARNING] empty masks!\n",
      "2024-05-25 18:02:37,936 [WARNING] empty masks!\n",
      "2024-05-25 18:02:37,937 [WARNING] empty masks!\n",
      "2024-05-25 18:02:37,939 [WARNING] empty masks!\n",
      "2024-05-25 18:02:37,940 [WARNING] empty masks!\n",
      "2024-05-25 18:02:37,940 [WARNING] empty masks!\n"
     ]
    },
    {
     "name": "stderr",
     "output_type": "stream",
     "text": [
      " 74%|███████▎  | 254/345 [00:10<00:01, 85.67it/s]"
     ]
    },
    {
     "name": "stdout",
     "output_type": "stream",
     "text": [
      "2024-05-25 18:02:38,030 [WARNING] empty masks!\n",
      "2024-05-25 18:02:38,030 [WARNING] empty masks!\n",
      "2024-05-25 18:02:38,032 [WARNING] empty masks!\n",
      "2024-05-25 18:02:38,033 [WARNING] empty masks!\n",
      "2024-05-25 18:02:38,034 [WARNING] empty masks!\n",
      "2024-05-25 18:02:38,035 [WARNING] empty masks!\n",
      "2024-05-25 18:02:38,036 [WARNING] empty masks!\n",
      "2024-05-25 18:02:38,037 [WARNING] empty masks!\n",
      "2024-05-25 18:02:38,038 [WARNING] empty masks!\n",
      "2024-05-25 18:02:38,039 [WARNING] empty masks!\n",
      "2024-05-25 18:02:38,041 [WARNING] empty masks!\n",
      "2024-05-25 18:02:38,081 [WARNING] empty masks!\n",
      "2024-05-25 18:02:38,083 [WARNING] empty masks!\n",
      "2024-05-25 18:02:38,084 [WARNING] empty masks!\n",
      "2024-05-25 18:02:38,085 [WARNING] empty masks!\n",
      "2024-05-25 18:02:38,086 [WARNING] empty masks!\n",
      "2024-05-25 18:02:38,086 [WARNING] empty masks!\n",
      "2024-05-25 18:02:38,087 [WARNING] empty masks!\n",
      "2024-05-25 18:02:38,088 [WARNING] empty masks!\n",
      "2024-05-25 18:02:38,089 [WARNING] empty masks!\n",
      "2024-05-25 18:02:38,090 [WARNING] empty masks!\n",
      "2024-05-25 18:02:38,091 [WARNING] empty masks!\n",
      "2024-05-25 18:02:38,093 [WARNING] empty masks!\n"
     ]
    },
    {
     "name": "stderr",
     "output_type": "stream",
     "text": [
      " 81%|████████  | 279/345 [00:10<00:00, 120.89it/s]"
     ]
    },
    {
     "name": "stdout",
     "output_type": "stream",
     "text": [
      "2024-05-25 18:02:38,222 [WARNING] empty masks!\n",
      "2024-05-25 18:02:38,223 [WARNING] empty masks!\n",
      "2024-05-25 18:02:38,224 [WARNING] empty masks!\n",
      "2024-05-25 18:02:38,225 [WARNING] empty masks!\n",
      "2024-05-25 18:02:38,262 [WARNING] empty masks!\n",
      "2024-05-25 18:02:38,314 [WARNING] empty masks!\n",
      "2024-05-25 18:02:38,315 [WARNING] empty masks!\n",
      "2024-05-25 18:02:38,316 [WARNING] empty masks!\n",
      "2024-05-25 18:02:38,317 [WARNING] empty masks!\n",
      "2024-05-25 18:02:38,318 [WARNING] empty masks!\n"
     ]
    },
    {
     "name": "stderr",
     "output_type": "stream",
     "text": [
      " 85%|████████▍ | 293/345 [00:10<00:00, 105.54it/s]"
     ]
    },
    {
     "name": "stdout",
     "output_type": "stream",
     "text": [
      "2024-05-25 18:02:38,320 [WARNING] empty masks!\n",
      "2024-05-25 18:02:38,320 [WARNING] empty masks!\n",
      "2024-05-25 18:02:38,322 [WARNING] empty masks!\n",
      "2024-05-25 18:02:38,323 [WARNING] empty masks!\n",
      "2024-05-25 18:02:38,324 [WARNING] empty masks!\n",
      "2024-05-25 18:02:38,325 [WARNING] empty masks!\n",
      "2024-05-25 18:02:38,326 [WARNING] empty masks!\n",
      "2024-05-25 18:02:38,328 [WARNING] empty masks!\n",
      "2024-05-25 18:02:38,329 [WARNING] empty masks!\n",
      "2024-05-25 18:02:38,330 [WARNING] empty masks!\n",
      "2024-05-25 18:02:38,332 [WARNING] empty masks!\n",
      "2024-05-25 18:02:38,333 [WARNING] empty masks!\n",
      "2024-05-25 18:02:38,335 [WARNING] empty masks!\n",
      "2024-05-25 18:02:38,336 [WARNING] empty masks!\n",
      "2024-05-25 18:02:38,337 [WARNING] empty masks!\n",
      "2024-05-25 18:02:38,339 [WARNING] empty masks!\n",
      "2024-05-25 18:02:38,340 [WARNING] empty masks!\n",
      "2024-05-25 18:02:38,342 [WARNING] empty masks!\n",
      "2024-05-25 18:02:38,342 [WARNING] empty masks!\n",
      "2024-05-25 18:02:38,344 [WARNING] empty masks!\n",
      "2024-05-25 18:02:38,412 [WARNING] empty masks!\n",
      "2024-05-25 18:02:38,413 [WARNING] empty masks!\n",
      "2024-05-25 18:02:38,414 [WARNING] empty masks!\n"
     ]
    },
    {
     "name": "stderr",
     "output_type": "stream",
     "text": [
      " 92%|█████████▏| 318/345 [00:10<00:00, 119.40it/s]"
     ]
    },
    {
     "name": "stdout",
     "output_type": "stream",
     "text": [
      "2024-05-25 18:02:38,544 [WARNING] empty masks!\n",
      "2024-05-25 18:02:38,609 [WARNING] empty masks!\n",
      "2024-05-25 18:02:38,610 [WARNING] empty masks!\n",
      "2024-05-25 18:02:38,780 [WARNING] empty masks!\n"
     ]
    },
    {
     "name": "stderr",
     "output_type": "stream",
     "text": [
      " 96%|█████████▌| 331/345 [00:11<00:00, 59.80it/s] "
     ]
    },
    {
     "name": "stdout",
     "output_type": "stream",
     "text": [
      "2024-05-25 18:02:39,061 [WARNING] empty masks!\n",
      "2024-05-25 18:02:39,063 [WARNING] empty masks!\n",
      "2024-05-25 18:02:39,311 [WARNING] empty masks!\n",
      "2024-05-25 18:02:39,313 [WARNING] empty masks!\n",
      "2024-05-25 18:02:39,314 [WARNING] empty masks!\n"
     ]
    },
    {
     "name": "stderr",
     "output_type": "stream",
     "text": [
      " 99%|█████████▉| 341/345 [00:11<00:00, 50.51it/s]"
     ]
    },
    {
     "name": "stdout",
     "output_type": "stream",
     "text": [
      "2024-05-25 18:02:39,453 [WARNING] empty masks!\n",
      "2024-05-25 18:02:39,455 [WARNING] empty masks!\n",
      "2024-05-25 18:02:39,456 [WARNING] empty masks!\n"
     ]
    },
    {
     "name": "stderr",
     "output_type": "stream",
     "text": [
      "100%|██████████| 345/345 [00:11<00:00, 29.83it/s]\n"
     ]
    },
    {
     "name": "stdout",
     "output_type": "stream",
     "text": [
      "2024-05-25 18:02:40,802 [INFO] computing flows for labels\n"
     ]
    },
    {
     "name": "stderr",
     "output_type": "stream",
     "text": [
      "  0%|          | 0/36 [00:00<?, ?it/s]"
     ]
    },
    {
     "name": "stdout",
     "output_type": "stream",
     "text": [
      "2024-05-25 18:02:40,812 [WARNING] empty masks!\n"
     ]
    },
    {
     "name": "stderr",
     "output_type": "stream",
     "text": [
      "100%|██████████| 36/36 [00:04<00:00,  8.74it/s]\n"
     ]
    },
    {
     "name": "stdout",
     "output_type": "stream",
     "text": [
      "2024-05-25 18:02:45,121 [INFO] >>> computing diameters\n"
     ]
    },
    {
     "name": "stderr",
     "output_type": "stream",
     "text": [
      "  0%|          | 0/345 [00:00<?, ?it/s]d:\\miniconda\\envs\\cellpose\\lib\\site-packages\\numpy\\core\\fromnumeric.py:3464: RuntimeWarning: Mean of empty slice.\n",
      "  return _methods._mean(a, axis=axis, dtype=dtype,\n",
      "d:\\miniconda\\envs\\cellpose\\lib\\site-packages\\numpy\\core\\_methods.py:192: RuntimeWarning: invalid value encountered in scalar divide\n",
      "  ret = ret.dtype.type(ret / rcount)\n",
      "100%|██████████| 345/345 [00:00<00:00, 761.48it/s]\n",
      "100%|██████████| 36/36 [00:00<00:00, 900.24it/s]"
     ]
    },
    {
     "name": "stdout",
     "output_type": "stream",
     "text": [
      "2024-05-25 18:02:45,618 [WARNING] 250 train images with number of masks less than min_train_masks (5), removing from train set\n",
      "2024-05-25 18:02:45,619 [INFO] >>> using channels [2, 1]\n",
      "2024-05-25 18:02:45,620 [INFO] >>> normalizing {'lowhigh': None, 'percentile': None, 'normalize': True, 'norm3D': False, 'sharpen_radius': 0, 'smooth_radius': 0, 'tile_norm_blocksize': 0, 'tile_norm_smooth3D': 1, 'invert': False}\n"
     ]
    },
    {
     "name": "stderr",
     "output_type": "stream",
     "text": [
      "\n"
     ]
    },
    {
     "name": "stdout",
     "output_type": "stream",
     "text": [
      "2024-05-25 18:02:46,752 [INFO] >>> n_epochs=100, n_train=95, n_test=36\n",
      "2024-05-25 18:02:46,752 [INFO] >>> SGD, learning_rate=0.10000, weight_decay=0.00010, momentum=0.900\n",
      "2024-05-25 18:02:52,013 [INFO] >>> saving model to d:\\GitHub\\cellpose\\models\\my_new_model\n"
     ]
    },
    {
     "name": "stderr",
     "output_type": "stream",
     "text": [
      "d:\\miniconda\\envs\\cellpose\\lib\\site-packages\\torch\\nn\\modules\\conv.py:456: UserWarning: Plan failed with a cudnnException: CUDNN_BACKEND_EXECUTION_PLAN_DESCRIPTOR: cudnnFinalize Descriptor Failed cudnn_status: CUDNN_STATUS_NOT_SUPPORTED (Triggered internally at C:\\cb\\pytorch_1000000000000\\work\\aten\\src\\ATen\\native\\cudnn\\Conv_v8.cpp:919.)\n",
      "  return F.conv2d(input, weight, bias, self.stride,\n"
     ]
    },
    {
     "name": "stdout",
     "output_type": "stream",
     "text": [
      "2024-05-25 18:02:59,713 [INFO] 0, train_loss=2.0568, test_loss=1.6897, LR=0.0000, time 7.70s\n",
      "2024-05-25 18:03:29,404 [INFO] 5, train_loss=1.0515, test_loss=1.0348, LR=0.0556, time 37.39s\n",
      "2024-05-25 18:03:59,133 [INFO] 10, train_loss=0.8973, test_loss=0.9595, LR=0.1000, time 67.12s\n",
      "2024-05-25 18:04:58,289 [INFO] 20, train_loss=0.8081, test_loss=0.9479, LR=0.1000, time 126.28s\n",
      "2024-05-25 18:05:58,781 [INFO] 30, train_loss=0.7326, test_loss=0.9721, LR=0.1000, time 186.77s\n",
      "2024-05-25 18:06:59,790 [INFO] 40, train_loss=0.7223, test_loss=1.0089, LR=0.1000, time 247.78s\n",
      "2024-05-25 18:08:00,925 [INFO] 50, train_loss=0.6905, test_loss=1.0100, LR=0.1000, time 308.91s\n",
      "2024-05-25 18:09:02,365 [INFO] 60, train_loss=0.7097, test_loss=1.0254, LR=0.1000, time 370.35s\n",
      "2024-05-25 18:10:03,608 [INFO] 70, train_loss=0.6780, test_loss=1.0254, LR=0.1000, time 431.60s\n",
      "2024-05-25 18:11:04,846 [INFO] 80, train_loss=0.6864, test_loss=1.0434, LR=0.1000, time 492.83s\n",
      "2024-05-25 18:12:06,106 [INFO] 90, train_loss=0.6975, test_loss=1.0505, LR=0.1000, time 554.09s\n"
     ]
    }
   ],
   "source": [
    "from cellpose import io, models, train\n",
    "io.logger_setup()\n",
    "\n",
    "# e.g. retrain a Cellpose model\n",
    "model = models.CellposeModel(model_type=\"cyto3\",gpu=True)\n",
    "\n",
    "model_path = train.train_seg(model.net, train_data=images, train_labels=labels,\n",
    "                            channels=[2,1], normalize=True,\n",
    "                            test_data=test_images, test_labels=test_labels,\n",
    "                            weight_decay=1e-4, SGD=True, learning_rate=0.1,\n",
    "                            n_epochs=100, model_name=\"my_new_model\")"
   ]
  }
 ],
 "metadata": {
  "kernelspec": {
   "display_name": "cellpose",
   "language": "python",
   "name": "python3"
  },
  "language_info": {
   "codemirror_mode": {
    "name": "ipython",
    "version": 3
   },
   "file_extension": ".py",
   "mimetype": "text/x-python",
   "name": "python",
   "nbconvert_exporter": "python",
   "pygments_lexer": "ipython3",
   "version": "3.8.19"
  }
 },
 "nbformat": 4,
 "nbformat_minor": 2
}
