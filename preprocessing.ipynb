{
 "cells": [
  {
   "cell_type": "code",
   "execution_count": 52,
   "metadata": {},
   "outputs": [],
   "source": [
    "import cv2\n",
    "import os\n",
    "import numpy as np\n",
    "import napari\n",
    "import tifffile"
   ]
  },
  {
   "cell_type": "code",
   "execution_count": 53,
   "metadata": {},
   "outputs": [],
   "source": [
    "dir = \"data/\"\n",
    "out = \"output/\"\n",
    "flist = os.listdir(dir)\n",
    "\n",
    "if not os.path.exists(out):\n",
    "    os.makedirs(out)\n",
    "\n",
    "if not os.path.exists(dir):\n",
    "    os.makedirs(dir)"
   ]
  },
  {
   "cell_type": "code",
   "execution_count": 54,
   "metadata": {},
   "outputs": [],
   "source": [
    "def preprocessing(img):    \n",
    "\n",
    "    img = cv2.GaussianBlur(img,ksize=(3,3),sigmaX=0)#kernel size must be odd and +ve\n",
    "\n",
    "    clahe = cv2.createCLAHE(clipLimit=10,tileGridSize=(8,8))\n",
    "\n",
    "    img = clahe.apply(img)\n",
    "    return img"
   ]
  },
  {
   "cell_type": "code",
   "execution_count": 55,
   "metadata": {},
   "outputs": [],
   "source": [
    "img = []\n",
    "for file in flist:\n",
    "    temp = tifffile.imread(os.path.join(dir + file))\n",
    "    Nuc = temp[0]\n",
    "    ck8 = temp[5]\n",
    "    ecad = temp[7]\n",
    "\n",
    "    Nuc = preprocessing(Nuc)\n",
    "    ck8 = preprocessing(ck8)\n",
    "    ecad = preprocessing(ecad)\n",
    "    img.append([Nuc,ck8,ecad])"
   ]
  },
  {
   "cell_type": "code",
   "execution_count": 56,
   "metadata": {},
   "outputs": [
    {
     "name": "stderr",
     "output_type": "stream",
     "text": [
      "WARNING: QWindowsWindow::setGeometry: Unable to set geometry 1024x576+1498-1050 (frame: 1040x615+1490-1081) on QWidgetWindow/\"_QtMainWindowClassWindow\" on \"PL2283H (2)\". Resulting geometry: 1026x584+1497-1057 (frame: 1042x623+1489-1088) margins: 8, 31, 8, 8 minimum size: 385x501 MINMAXINFO(maxSize=POINT(x=0, y=0), maxpos=POINT(x=0, y=0), maxtrack=POINT(x=0, y=0), mintrack=POINT(x=401, y=540)))\n"
     ]
    },
    {
     "data": {
      "text/plain": [
       "(Viewer(camera=Camera(center=(0.0, 3635.5, 3195.5), zoom=0.054614488850779526, angles=(0.0, 0.0, 90.0), perspective=0.0, mouse_pan=True, mouse_zoom=True), cursor=Cursor(position=(5.0, 1.0, 0.0), scaled=True, size=1, style=<CursorStyle.STANDARD: 'standard'>), dims=Dims(ndim=3, ndisplay=2, last_used=0, range=((0.0, 11.0, 1.0), (0.0, 7272.0, 1.0), (0.0, 6392.0, 1.0)), current_step=(5, 3635, 3195), order=(0, 1, 2), axis_labels=('0', '1', '2')), grid=GridCanvas(stride=1, shape=(-1, -1), enabled=False), layers=[<Image layer 'Image' at 0x248b90b2790>], help='use <2> for transform', status='Ready', tooltip=Tooltip(visible=False, text=''), theme='dark', title='napari', mouse_over_canvas=False, mouse_move_callbacks=[], mouse_drag_callbacks=[], mouse_double_click_callbacks=[], mouse_wheel_callbacks=[<function dims_scroll at 0x00000249916771A0>], _persisted_mouse_event={}, _mouse_drag_gen={}, _mouse_wheel_gen={}, keymap={}),\n",
       " <Image layer 'Image' at 0x248b90b2790>)"
      ]
     },
     "execution_count": 56,
     "metadata": {},
     "output_type": "execute_result"
    }
   ],
   "source": [
    "napari.imshow(tifffile.imread(os.path.join(dir,flist[0])))"
   ]
  },
  {
   "cell_type": "code",
   "execution_count": 57,
   "metadata": {},
   "outputs": [
    {
     "name": "stderr",
     "output_type": "stream",
     "text": [
      "WARNING: QWindowsWindow::setGeometry: Unable to set geometry 1024x576+1498-1050 (frame: 1040x615+1490-1081) on QWidgetWindow/\"_QtMainWindowClassWindow\" on \"PL2283H (2)\". Resulting geometry: 1026x584+1497-1057 (frame: 1042x623+1489-1088) margins: 8, 31, 8, 8 minimum size: 385x501 MINMAXINFO(maxSize=POINT(x=0, y=0), maxpos=POINT(x=0, y=0), maxtrack=POINT(x=0, y=0), mintrack=POINT(x=401, y=540)))\n"
     ]
    },
    {
     "data": {
      "text/plain": [
       "(Viewer(camera=Camera(center=(0.0, 3635.5, 3195.5), zoom=0.054614488850779526, angles=(0.0, 0.0, 90.0), perspective=0.0, mouse_pan=True, mouse_zoom=True), cursor=Cursor(position=(1.0, 1.0, 0.0), scaled=True, size=1, style=<CursorStyle.STANDARD: 'standard'>), dims=Dims(ndim=3, ndisplay=2, last_used=0, range=((0.0, 3.0, 1.0), (0.0, 7272.0, 1.0), (0.0, 6392.0, 1.0)), current_step=(1, 3635, 3195), order=(0, 1, 2), axis_labels=('0', '1', '2')), grid=GridCanvas(stride=1, shape=(-1, -1), enabled=False), layers=[<Image layer 'Image' at 0x248f4534c90>], help='use <2> for transform', status='Ready', tooltip=Tooltip(visible=False, text=''), theme='dark', title='napari', mouse_over_canvas=False, mouse_move_callbacks=[], mouse_drag_callbacks=[], mouse_double_click_callbacks=[], mouse_wheel_callbacks=[<function dims_scroll at 0x00000249916771A0>], _persisted_mouse_event={}, _mouse_drag_gen={}, _mouse_wheel_gen={}, keymap={}),\n",
       " <Image layer 'Image' at 0x248f4534c90>)"
      ]
     },
     "execution_count": 57,
     "metadata": {},
     "output_type": "execute_result"
    }
   ],
   "source": [
    "napari.imshow(np.asarray(img[0]))"
   ]
  },
  {
   "cell_type": "code",
   "execution_count": 60,
   "metadata": {},
   "outputs": [
    {
     "name": "stderr",
     "output_type": "stream",
     "text": [
      "WARNING: \"Unable to open monitor interface to \\\\\\\\.\\\\DISPLAY2:\" \"The operation completed successfully.\"\n"
     ]
    }
   ],
   "source": [
    "i = 0\n",
    "for items in img:\n",
    "    with tifffile.TiffWriter(os.path.join(out,flist[i]), bigtiff=True) as tif:\n",
    "        tif.write(data=items, dtype='uint8')\n",
    "        tif.close()\n",
    "    i += 1\n",
    "            "
   ]
  }
 ],
 "metadata": {
  "kernelspec": {
   "display_name": ".venv",
   "language": "python",
   "name": "python3"
  },
  "language_info": {
   "codemirror_mode": {
    "name": "ipython",
    "version": 3
   },
   "file_extension": ".py",
   "mimetype": "text/x-python",
   "name": "python",
   "nbconvert_exporter": "python",
   "pygments_lexer": "ipython3",
   "version": "3.11.5"
  }
 },
 "nbformat": 4,
 "nbformat_minor": 2
}
